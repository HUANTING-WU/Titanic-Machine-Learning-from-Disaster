{
  "cells": [
    {
      "metadata": {
        "colab_type": "text",
        "id": "1MHnHZ5d_QNg",
        "_uuid": "2a5008ee31a7f9aa264239097c79632a313c5ff2"
      },
      "cell_type": "markdown",
      "source": "## Utility Functions Load"
    },
    {
      "metadata": {
        "trusted": true,
        "_uuid": "bef9dc3dbb4a3469e9a7f9d364ab07ae5aec2fbb"
      },
      "cell_type": "code",
      "source": "# %load utilities.py\ndef plot_distribution(data):\n    import matplotlib.pyplot as plt\n    import seaborn as sns\n    from scipy import stats\n\n    plt.figure()\n    sns.distplot(data, fit=stats.norm);\n    mean, std = stats.norm.fit(data)\n    print('mean = {:.4f}\\nstd = {:.4f}\\nskewness = {:.4f}\\nkurtosis = {:.4f}'\n          .format(mean, std, data.skew(), data.kurtosis()))\n    plt.figure()\n    stats.probplot(data, plot=plt);\n\ndef describe_numerical(data):\n    print('mean:', data.mean())\n    print('median:', data.median())\n    print('mode:', data.mode().values[0])\n    print(data.describe())\n\ndef missing_value(data):\n    print('missing value number:', data.isnull().sum())\n    print('missing value percentage:', data.isnull().sum()/len(data))\n\ndef submit(test_X_og, pred_y):\n    import pandas as pd\n\n    submit = pd.DataFrame(data=[test_X_og.index, pred_y]).T\n    submit.columns = ['PassengerId', 'Survived']\n    submit = submit.astype('int32')\n    submit.to_csv('submit.csv', index=False)\n\ndef gridsearchcv(model, param_grid, train_X, train_Y, dev_X, dev_Y):\n    from sklearn.model_selection import (cross_val_score, GridSearchCV, KFold)\n    from sklearn.metrics import accuracy_score\n\n    model = GridSearchCV(model, param_grid=param_grid, scoring='accuracy',\n                        cv=KFold(n_splits=5, shuffle=True, random_state=None))\n    model.fit(train_X, train_Y)\n    print('grid search best parameters:', model.best_params_)\n    print('grid search best scores: {:.4f}'.format(model.best_score_))\n\n    train_scores = cross_val_score(model, train_X, train_Y, scoring='accuracy',\n                                cv=KFold(n_splits=5, shuffle=True, random_state=None))\n    train_score = train_scores.mean()\n    print('cv score: {:.4f}'.format(train_score))\n\n    pred_y = model.predict(dev_X)\n    dev_score = accuracy_score(dev_Y, pred_y)\n    print('dev score: {:.4f}'.format(dev_score))\n\n    return model\n\ndef plot_result(history):\n    import matplotlib.pyplot as plt\n\n    print('train set loss: {:.4f}'.format(history.history['loss'][-1]))\n    print('dev set loss: {:.4f}'.format(history.history['val_loss'][-1]))\n    print('train set accuracy: {:.4f}'.format(history.history['binary_accuracy'][-1]))\n    print('dev set accuracy: {:.4f}'.format(history.history['val_binary_accuracy'][-1]))\n\n    plt.plot(history.history['loss'])\n    plt.plot(history.history['val_loss'])\n    plt.title('Model Loss')\n    plt.ylabel('Loss')\n    plt.xlabel('Epoch')\n    plt.legend(['Train Loss', 'Dev Loss'], loc='upper right')\n    plt.show()\n\n    plt.plot(history.history['binary_accuracy'])\n    plt.plot(history.history['val_binary_accuracy'])\n    plt.title('Model Accuracy')\n    plt.ylabel('Loss Accuracy')\n    plt.xlabel('Epoch')\n    plt.legend(['Train Accuracy', 'Dev Accuracy'], loc='upper right')\n    plt.show()\n\ndef create_nn(train_X, train_Y, dev_X, dev_Y, l1, l2, lr, batch_size, epochs):\n    from keras.callbacks import (History, EarlyStopping)\n    from keras.models import Sequential\n    from keras.layers import Dense, Dropout\n    from keras import losses\n    from keras import metrics\n    from keras import optimizers\n    from keras import initializers\n    from keras import regularizers\n\n    model = Sequential()\n\n    model.add(Dense(16, activation='relu',\n              kernel_initializer=initializers.he_normal(seed=42),\n              bias_initializer=initializers.Zeros(),\n              kernel_regularizer=regularizers.l1_l2(l1=l1, l2=l2),\n              bias_regularizer=regularizers.l1_l2(l1=l1, l2=l2)))\n\n    model.add(Dense(16, activation='relu',\n              kernel_regularizer=regularizers.l1_l2(l1=l1, l2=l2),\n              bias_regularizer=regularizers.l1_l2(l1=l1, l2=l2)))\n\n    model.add(Dense(1, activation='sigmoid'))\n\n    model.compile(optimizer=optimizers.Adam(lr=lr),\n              loss=losses.binary_crossentropy,\n              metrics = [metrics.binary_accuracy])\n\n    history = History()\n    early_stop = EarlyStopping(monitor='val_loss', patience=5, restore_best_weights=True)\n\n    model.fit(train_X, train_Y, validation_data=[dev_X, dev_Y], shuffle=True, verbose=0,\n                batch_size=batch_size, epochs=epochs, callbacks=[history, early_stop])\n\n    return model, history, early_stop\n",
      "execution_count": null,
      "outputs": []
    },
    {
      "metadata": {
        "_uuid": "719b2c1eb5e311a12f06036979cffc99d98abf40"
      },
      "cell_type": "markdown",
      "source": "## Data Load"
    },
    {
      "metadata": {
        "colab": {
          "base_uri": "https://localhost:8080/",
          "height": 1153
        },
        "colab_type": "code",
        "executionInfo": {
          "elapsed": 1200,
          "status": "error",
          "timestamp": 1553303908600,
          "user": {
            "displayName": "colab hok001",
            "photoUrl": "",
            "userId": "08064250200332094494"
          },
          "user_tz": 0
        },
        "id": "mMHT659uCTbQ",
        "outputId": "d9a4c83b-5db5-40f7-d088-c75fd68ea56b",
        "trusted": true,
        "_uuid": "d3aa5e36bf257a2e066232d54c630d76e3b4ca68"
      },
      "cell_type": "code",
      "source": "import pandas as pd\nimport numpy as np\nfrom scipy import stats\n# from utilities import *\nimport matplotlib.pyplot as plt\n%matplotlib inline\nimport re\n\nfrom sklearn_pandas import DataFrameMapper\nfrom sklearn.model_selection import train_test_split\nfrom sklearn import preprocessing\n\nfrom keras.callbacks import (History, EarlyStopping)\nfrom keras.models import Sequential\nfrom keras.layers import Dense\nfrom keras import losses\nfrom keras import metrics\nfrom keras import optimizers\nfrom keras import initializers\nfrom keras import regularizers\n\nimport pickle\nimport warnings\nwarnings.filterwarnings('ignore')\n%load_ext autoreload\n%autoreload\n\ntrain_og = pd.read_csv('../input/train.csv', index_col=0)\ntrain_og = train_og.copy()\ntest_X_og = pd.read_csv('../input/test.csv', index_col=0)\ntest_X_og = test_X_og.copy()\n\nprint('train set shape:', train_og.shape)\nprint('test set shape:', test_X_og.shape)\n\ntrain_X_og, train_Y_og = train_og[train_og.columns[1:]], train_og[train_og.columns[0]]\n\nX_og = pd.concat([train_X_og, test_X_og])",
      "execution_count": null,
      "outputs": []
    },
    {
      "metadata": {
        "colab_type": "text",
        "id": "xbbS2QZy_QNg",
        "_uuid": "801debf050da0ea6018006cba6b7d787f039c3ae"
      },
      "cell_type": "markdown",
      "source": "## Feature Classification"
    },
    {
      "metadata": {
        "colab": {},
        "colab_type": "code",
        "id": "O2lTLdBl_QNg",
        "trusted": true,
        "_uuid": "af4bd817ed3437a940eddc43987e8805958260f1"
      },
      "cell_type": "code",
      "source": "X_og = X_og.rename(columns={'Pclass' : 'class', 'Name' : 'full name', \n                           'Sex' : 'sex', 'Age' : 'age', 'SibSp' : 'family size 01', \n                           'Parch' : 'family size 02', 'Ticket' : 'ticket', \n                           'Fare' : 'fare', 'Cabin' : 'cabin class number', 'Embarked' : 'embarked'})\n\n# print(X_og.columns)\n\ncategorical = ['class', 'full name', 'sex', 'ticket', 'cabin class number', 'embarked']\nnumerical = ['age', 'fare', 'family size 01', 'family size 02']",
      "execution_count": null,
      "outputs": []
    },
    {
      "metadata": {
        "colab_type": "text",
        "id": "bjbpuD4s_QPE",
        "_uuid": "585927f04dd10705a50d0e0fcf5489fb6f827b69"
      },
      "cell_type": "markdown",
      "source": "## Check Missing Values "
    },
    {
      "metadata": {
        "colab": {},
        "colab_type": "code",
        "id": "X0Xd-oJ4_QPE",
        "trusted": true,
        "_uuid": "c41bc4d21b8b20b634921c0454c1af1f19e3f166"
      },
      "cell_type": "code",
      "source": "# print('train_Y missing value:', train_Y_og.isnull().sum())\n# print()\n# print('X_og missing value number:')\n# print((X_og.isnull().sum()).sort_values(ascending=False)[:10])\n# print()\n# print('X_og missing value percentage:')\n# print((X_og.isnull().sum()/len(X_og)).sort_values(ascending=False)[:10])\nX_fill = X_og.copy()",
      "execution_count": null,
      "outputs": []
    },
    {
      "metadata": {
        "colab_type": "text",
        "id": "yPpT8Ibi_QPE",
        "_uuid": "a0eb881571c28440383d8317edc41059581a98ed"
      },
      "cell_type": "markdown",
      "source": "## 'cabin class number' Feature Missing Values"
    },
    {
      "metadata": {
        "colab": {},
        "colab_type": "code",
        "id": "8D-lJSxi_QPE",
        "trusted": true,
        "_uuid": "0f093b67111d97241e2e60f78280187ad31c2f25"
      },
      "cell_type": "code",
      "source": "# missing_value(X_og['cabin class number'])\n\nX_fill['cabin class number'] = X_fill['cabin class number'].fillna('None')",
      "execution_count": null,
      "outputs": []
    },
    {
      "metadata": {
        "colab_type": "text",
        "id": "ix9sFH9O_QPE",
        "_uuid": "dd61eae75c4de3d55b443fc885135fe4d47f4280"
      },
      "cell_type": "markdown",
      "source": "## 'age' Feature Missing Values "
    },
    {
      "metadata": {
        "colab": {},
        "colab_type": "code",
        "id": "evDUfJ7t_QPE",
        "trusted": true,
        "_uuid": "c75938c4fac43337c35535e0c641e7f008e043dd"
      },
      "cell_type": "code",
      "source": "# missing_value(X_og['age'])\n\n# describe_numerical(X_og['age'])\n\nX_fill['age'] = X_fill['age'].fillna(X_fill['age'].median())",
      "execution_count": null,
      "outputs": []
    },
    {
      "metadata": {
        "colab_type": "text",
        "id": "DXCpSPpC_QPE",
        "_uuid": "dd37ac72a33363186523e42ac5734ec44f6a5dde"
      },
      "cell_type": "markdown",
      "source": "## 'embarked' & 'fare' Feature Missing Values"
    },
    {
      "metadata": {
        "colab": {},
        "colab_type": "code",
        "id": "4XRv8XMU_QPE",
        "trusted": true,
        "_uuid": "e33714737c4d164de85742c2ce73bb361747ba86"
      },
      "cell_type": "code",
      "source": "# missing_value(X_og['embarked'])\n\nX_fill['embarked'].describe()\n\nX_fill['embarked'] = X_fill['embarked'].fillna(X_fill['embarked'].describe()['top'])\n\n# missing_value(X_og['fare'])\n\n# describe_numerical(X_og['fare'])\n\nX_fill['fare'] = X_fill['fare'].fillna(X_fill['fare'].median())",
      "execution_count": null,
      "outputs": []
    },
    {
      "metadata": {
        "colab_type": "text",
        "id": "Y3sU9AAF_QPE",
        "_uuid": "f4c442363e421105c46ed47a572ed56c32009918"
      },
      "cell_type": "markdown",
      "source": "## Check Filled Missing Values"
    },
    {
      "metadata": {
        "colab": {},
        "colab_type": "code",
        "id": "RNj-UQLm_QPE",
        "trusted": true,
        "_uuid": "d8cfff868227d4ac5d7e4cd7b787642d1c3445c2"
      },
      "cell_type": "code",
      "source": "# print('X_fill missing value number:')\n# print((X_fill.isnull().sum()).sort_values(ascending=False)[:10])\n# print('X_fill missing value percentage:')\n# print((X_fill.isnull().sum()/len(X_fill)).sort_values(ascending=False)[:10])",
      "execution_count": null,
      "outputs": []
    },
    {
      "metadata": {
        "colab_type": "text",
        "id": "_poIk17N_QPE",
        "_uuid": "8a5c7e8636c59c4df4c5bfee971a9aab17052f43"
      },
      "cell_type": "markdown",
      "source": "## Numerical Feature Skewness & Kurtosis"
    },
    {
      "metadata": {
        "colab": {},
        "colab_type": "code",
        "id": "oY99FqLn_QPE",
        "outputId": "3bc2828f-3c99-4531-86e2-276ae95a7395",
        "trusted": true,
        "_uuid": "57ec4c1f79d6327b718a703740a4763356fad3ed"
      },
      "cell_type": "code",
      "source": "# for i in numerical: print(i+' skewness:', X_og[i].skew())\n\nX_fill['fare'] = np.log1p(X_fill['fare'])\n\n# print('fare skewness:', X_og['fare'].skew())",
      "execution_count": null,
      "outputs": []
    },
    {
      "metadata": {
        "_uuid": "432e6e0902e50e0575f1c38fe628dc47b8894d3d"
      },
      "cell_type": "markdown",
      "source": "## Drop 'ticket' Feature"
    },
    {
      "metadata": {
        "trusted": true,
        "_uuid": "93781d41173d22262afbc8fcb343492dcf5f3a6e"
      },
      "cell_type": "code",
      "source": "X_fill = X_fill.drop('ticket', axis=1)",
      "execution_count": null,
      "outputs": []
    },
    {
      "metadata": {
        "_uuid": "d96786fd9668d770cc4a26c92dab80eccdcef7d0"
      },
      "cell_type": "markdown",
      "source": "## Add Feature 'cabin class' & Drop 'cabin class number' Feature"
    },
    {
      "metadata": {
        "trusted": true,
        "_uuid": "1e213e6aa34934755942b7fc510f38bba94f26f2"
      },
      "cell_type": "code",
      "source": "X_fill['cabin class'] = list(X_fill['cabin class number'].str[0])\n\nX_fill = X_fill.drop('cabin class number', axis=1)",
      "execution_count": null,
      "outputs": []
    },
    {
      "metadata": {
        "_uuid": "1f225de900700a092c739b45de03db4d823bc7d0"
      },
      "cell_type": "markdown",
      "source": "## Add Feature 'family size' & Drop 'family size 01/02' Features"
    },
    {
      "metadata": {
        "trusted": true,
        "_uuid": "9939e0f28e4d741c54b9ac0c9de8b4cf1d9989f2"
      },
      "cell_type": "code",
      "source": "X_fill['family size'] = X_fill['family size 01'] + X_fill['family size 02'] + 1\n\nX_fill = X_fill.drop(['family size 01', 'family size 02'], axis=1)",
      "execution_count": null,
      "outputs": []
    },
    {
      "metadata": {
        "_uuid": "b836f9c87ecbc4957a10bd3e71fa5ff4acfb57ef"
      },
      "cell_type": "markdown",
      "source": "## Add Feature 'alone'"
    },
    {
      "metadata": {
        "trusted": true,
        "_uuid": "663d3edf1361bf5d31bd7edf51150102c450a932"
      },
      "cell_type": "code",
      "source": "X_fill['alone'] = np.where(X_fill['family size'] == 1, 1, 0)",
      "execution_count": null,
      "outputs": []
    },
    {
      "metadata": {
        "_uuid": "e7bd55446f9839e0df50de417d9665f47cbe4038"
      },
      "cell_type": "markdown",
      "source": "## Add Feature 'honorific' & Drop 'full name' Feature"
    },
    {
      "metadata": {
        "trusted": true,
        "_uuid": "c0a1691338dae2da0425de59ccad6bfdaac8e327"
      },
      "cell_type": "code",
      "source": "honorific = [i[0] for i in X_fill['full name'].str.split(', ', expand=True)[1].str.split('.')]\n\nX_fill['honorific'] = honorific\n\nX_fill = X_fill.drop('full name', axis=1)",
      "execution_count": null,
      "outputs": []
    },
    {
      "metadata": {
        "colab_type": "text",
        "id": "F3EMrZ9k_QQo",
        "_uuid": "6dfd8abf4223a08442b841432a79180a29f20ed5"
      },
      "cell_type": "markdown",
      "source": "## Feature Value Transformation"
    },
    {
      "metadata": {
        "colab": {},
        "colab_type": "code",
        "id": "3t3pGAst_QQo",
        "outputId": "3cd08777-89d6-435d-9e35-05d2285e10e5",
        "trusted": true,
        "_uuid": "1ecabeba3840ed1cbbb9ded6a05a7ce5db60455e"
      },
      "cell_type": "code",
      "source": "X_pre_transform = X_fill.copy()\n\n# print(X_pre_transform.columns)\n\nnominal = ['sex', 'alone', 'honorific']\nordinal = ['class', 'embarked', 'cabin class']\ndiscrete = ['family size']\ncontinuous = ['age', 'fare']\n\nmapper = DataFrameMapper([\n    (nominal, preprocessing.OneHotEncoder(sparse=False)), \n    (ordinal, preprocessing.OrdinalEncoder()), \n    (discrete, preprocessing.LabelEncoder()), \n    (continuous, preprocessing.StandardScaler())], \n    df_out=True)\n\nX = mapper.fit_transform(X_pre_transform)\n\n# print('X feature set shape:', X.shape)",
      "execution_count": null,
      "outputs": []
    },
    {
      "metadata": {
        "colab_type": "text",
        "id": "id3-Q-Hf_QQo",
        "_uuid": "8ba442ed777660b93897f1edf88ec96d83d3dd54"
      },
      "cell_type": "markdown",
      "source": "## Create Train, Dev, Test Sets"
    },
    {
      "metadata": {
        "colab": {},
        "colab_type": "code",
        "id": "SlhHqHRi_QQo",
        "trusted": true,
        "_uuid": "853e4b585e433680dd33ac723de367047a458bca"
      },
      "cell_type": "code",
      "source": "train_X = X.loc[train_X_og.index].values\ntest_X = X.loc[test_X_og.index].values\n\ntrain_Y = train_Y_og.values\n\ntrain_X, dev_X, train_Y, dev_Y = train_test_split(train_X, train_Y, random_state=42)",
      "execution_count": null,
      "outputs": []
    },
    {
      "metadata": {
        "_uuid": "b0aaef0bbb2485181c2d6eafdc4bc4a2702deefd"
      },
      "cell_type": "markdown",
      "source": "## Model - Neural Network"
    },
    {
      "metadata": {
        "trusted": true,
        "_uuid": "b8a773405a307a22f217b15b4a84a9dd3a2e5620"
      },
      "cell_type": "code",
      "source": "def create_nn(train_X, train_Y, dev_X, dev_Y, l1, l2, lr, batch_size, epochs):\n    from keras.callbacks import (History, EarlyStopping)\n    from keras.models import Sequential\n    from keras.layers import Dense, Dropout\n    from keras import losses\n    from keras import metrics\n    from keras import optimizers\n    from keras import initializers\n    from keras import regularizers\n\n    model = Sequential()\n\n    model.add(Dense(16, activation='relu',\n              kernel_initializer=initializers.he_normal(seed=42),\n              bias_initializer=initializers.Zeros(),\n              kernel_regularizer=regularizers.l1_l2(l1=l1, l2=l2),\n              bias_regularizer=regularizers.l1_l2(l1=l1, l2=l2)))\n\n    model.add(Dropout(rate=0.5, seed=42))\n\n    model.add(Dense(1, activation='sigmoid'))\n\n    model.compile(optimizer=optimizers.Adam(lr=lr),\n              loss=losses.binary_crossentropy,\n              metrics = [metrics.binary_accuracy])\n\n    history = History()\n    early_stop = EarlyStopping(monitor='val_loss', patience=5, restore_best_weights=True)\n\n    model.fit(train_X, train_Y, validation_data=[dev_X, dev_Y], shuffle=True, verbose=0, \n              batch_size=batch_size, epochs=epochs, callbacks=[history, early_stop])\n\n    return model, history, early_stop",
      "execution_count": null,
      "outputs": []
    },
    {
      "metadata": {
        "trusted": true,
        "_uuid": "f74602efb821ba1f24447b765b6887dc7cea1775"
      },
      "cell_type": "code",
      "source": "batch_size = 32\nepochs = 1000\nlr = 0.0001\nl1 = 0.01\nl2 = 0.01",
      "execution_count": null,
      "outputs": []
    },
    {
      "metadata": {
        "trusted": true,
        "_uuid": "a73d8c3e267c89146f8af1062d250157de495810"
      },
      "cell_type": "code",
      "source": "model_nn, history, early_stop = create_nn(train_X, train_Y, dev_X, dev_Y, l1, l2, lr, batch_size, epochs)\n\nplot_result(history)",
      "execution_count": null,
      "outputs": []
    },
    {
      "metadata": {
        "_uuid": "40742b8285d3b8a9e0ba99c638ccb2720f0e4a92"
      },
      "cell_type": "markdown",
      "source": "## Predict"
    },
    {
      "metadata": {
        "trusted": true,
        "_uuid": "69ec345d10c7fcae0495b71118a479fab034f4df"
      },
      "cell_type": "code",
      "source": "pickle.dump(model_nn, open('model_nn.sav', 'wb'))\nmodel_nn_load = pickle.load(open('model_nn.sav', 'rb'))\ny_nn = model_nn_load.predict(test_X)\ny_nn_save = pd.DataFrame(data=[test_X_og.index, y_nn]).T\ny_nn_save.columns = ['PassengerId', 'Survived']\ny_nn_save = y_nn_save.astype('int32')\ny_nn_save.to_csv('y_nn.csv', index=False)",
      "execution_count": null,
      "outputs": []
    },
    {
      "metadata": {
        "colab": {},
        "colab_type": "code",
        "id": "YeGF5sC0_QSM",
        "trusted": false,
        "_uuid": "bbe5f7dec89976d7f13e709c0fe42f93f7ffeabe"
      },
      "cell_type": "code",
      "source": "",
      "execution_count": null,
      "outputs": []
    },
    {
      "metadata": {
        "colab": {},
        "colab_type": "code",
        "id": "-wneOHmA_QSM",
        "trusted": false,
        "_uuid": "1e731bbc0673bbc5bb323b1e24d8a8b4ba3f2254"
      },
      "cell_type": "code",
      "source": "",
      "execution_count": null,
      "outputs": []
    }
  ],
  "metadata": {
    "accelerator": "GPU",
    "colab": {
      "collapsed_sections": [],
      "name": "titanic_v1.ipynb",
      "provenance": [],
      "toc_visible": true,
      "version": "0.3.2"
    },
    "kernelspec": {
      "display_name": "Python 3",
      "language": "python",
      "name": "python3"
    },
    "language_info": {
      "name": "python",
      "version": "3.6.6",
      "mimetype": "text/x-python",
      "codemirror_mode": {
        "name": "ipython",
        "version": 3
      },
      "pygments_lexer": "ipython3",
      "nbconvert_exporter": "python",
      "file_extension": ".py"
    }
  },
  "nbformat": 4,
  "nbformat_minor": 1
}