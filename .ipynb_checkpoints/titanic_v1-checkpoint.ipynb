{
 "cells": [
  {
   "cell_type": "markdown",
   "metadata": {
    "colab_type": "text",
    "id": "1MHnHZ5d_QNg"
   },
   "source": [
    "## Utility Functions Load"
   ]
  },
  {
   "cell_type": "code",
   "execution_count": null,
   "metadata": {},
   "outputs": [],
   "source": [
    "# %load utilities.py\n",
    "def plot_distribution(data):\n",
    "    import matplotlib.pyplot as plt\n",
    "    import seaborn as sns\n",
    "    from scipy import stats\n",
    "\n",
    "    plt.figure()\n",
    "    sns.distplot(data, fit=stats.norm);\n",
    "    mean, std = stats.norm.fit(data)\n",
    "    print('mean = {:.4f}\\nstd = {:.4f}\\nskewness = {:.4f}\\nkurtosis = {:.4f}'\n",
    "          .format(mean, std, data.skew(), data.kurtosis()))\n",
    "    plt.figure()\n",
    "    stats.probplot(data, plot=plt);\n",
    "\n",
    "def describe_numerical(data):\n",
    "    print('mean:', data.mean())\n",
    "    print('median:', data.median())\n",
    "    print('mode:', data.mode().values[0])\n",
    "    print(data.describe())\n",
    "\n",
    "def missing_value(data):\n",
    "    print('missing value number:', data.isnull().sum())\n",
    "    print('missing value percentage:', data.isnull().sum()/len(data))\n",
    "\n",
    "def submit(test_X_og, pred_y):\n",
    "    import pandas as pd\n",
    "\n",
    "    submit = pd.DataFrame(data=[test_X_og.index, pred_y]).T\n",
    "    submit.columns = ['PassengerId', 'Survived']\n",
    "    submit = submit.astype('int32')\n",
    "    submit.to_csv('submit.csv', index=False)\n",
    "\n",
    "def gridsearchcv(model, param_grid, train_X, train_Y, dev_X, dev_Y):\n",
    "    from sklearn.model_selection import (cross_val_score, GridSearchCV, KFold)\n",
    "    from sklearn.metrics import accuracy_score\n",
    "\n",
    "    model = GridSearchCV(model, param_grid=param_grid, scoring='accuracy',\n",
    "                        cv=KFold(n_splits=5, shuffle=True, random_state=None))\n",
    "    model.fit(train_X, train_Y)\n",
    "    print('grid search best parameters:', model.best_params_)\n",
    "    print('grid search best scores: {:.4f}'.format(model.best_score_))\n",
    "\n",
    "    train_scores = cross_val_score(model, train_X, train_Y, scoring='accuracy',\n",
    "                                cv=KFold(n_splits=5, shuffle=True, random_state=None))\n",
    "    train_score = train_scores.mean()\n",
    "    print('cv score: {:.4f}'.format(train_score))\n",
    "\n",
    "    pred_y = model.predict(dev_X)\n",
    "    dev_score = accuracy_score(dev_Y, pred_y)\n",
    "    print('dev score: {:.4f}'.format(dev_score))\n",
    "\n",
    "    return model\n",
    "\n",
    "def plot_result(history):\n",
    "    import matplotlib.pyplot as plt\n",
    "\n",
    "    print('train set loss: {:.4f}'.format(history.history['loss'][-1]))\n",
    "    print('dev set loss: {:.4f}'.format(history.history['val_loss'][-1]))\n",
    "    print('train set accuracy: {:.4f}'.format(history.history['binary_accuracy'][-1]))\n",
    "    print('dev set accuracy: {:.4f}'.format(history.history['val_binary_accuracy'][-1]))\n",
    "\n",
    "    plt.plot(history.history['loss'])\n",
    "    plt.plot(history.history['val_loss'])\n",
    "    plt.title('Model Loss')\n",
    "    plt.ylabel('Loss')\n",
    "    plt.xlabel('Epoch')\n",
    "    plt.legend(['Train Loss', 'Dev Loss'], loc='upper right')\n",
    "    plt.show()\n",
    "\n",
    "    plt.plot(history.history['binary_accuracy'])\n",
    "    plt.plot(history.history['val_binary_accuracy'])\n",
    "    plt.title('Model Accuracy')\n",
    "    plt.ylabel('Loss Accuracy')\n",
    "    plt.xlabel('Epoch')\n",
    "    plt.legend(['Train Accuracy', 'Dev Accuracy'], loc='upper right')\n",
    "    plt.show()\n",
    "\n",
    "def create_nn(train_X, train_Y, dev_X, dev_Y, l1, l2, lr, batch_size, epochs):\n",
    "    from keras.callbacks import (History, EarlyStopping)\n",
    "    from keras.models import Sequential\n",
    "    from keras.layers import Dense, Dropout\n",
    "    from keras import losses\n",
    "    from keras import metrics\n",
    "    from keras import optimizers\n",
    "    from keras import initializers\n",
    "    from keras import regularizers\n",
    "\n",
    "    model = Sequential()\n",
    "\n",
    "    model.add(Dense(64, activation='relu',\n",
    "              kernel_initializer=initializers.he_normal(seed=42),\n",
    "              bias_initializer=initializers.Zeros(),\n",
    "              kernel_regularizer=regularizers.l1_l2(l1=l1, l2=l2),\n",
    "              bias_regularizer=regularizers.l1_l2(l1=l1, l2=l2)))\n",
    "\n",
    "    model.add(Dropout(rate=0.5, seed=42))\n",
    "\n",
    "    model.add(Dense(32, activation='relu',\n",
    "              kernel_regularizer=regularizers.l1_l2(l1=l1, l2=l2),\n",
    "              bias_regularizer=regularizers.l1_l2(l1=l1, l2=l2)))\n",
    "\n",
    "    model.add(Dense(1, activation='sigmoid'))\n",
    "\n",
    "    model.compile(optimizer=optimizers.Adam(lr=lr),\n",
    "              loss=losses.binary_crossentropy,\n",
    "              metrics = [metrics.binary_accuracy])\n",
    "\n",
    "    history = History()\n",
    "    early_stop = EarlyStopping(monitor='val_loss', patience=5, restore_best_weights=True)\n",
    "\n",
    "    model.fit(train_X, train_Y, validation_data=[dev_X, dev_Y], shuffle=True, verbose=0,\n",
    "                batch_size=batch_size, epochs=epochs, callbacks=[history, early_stop])\n",
    "\n",
    "    return model, history, early_stop\n"
   ]
  },
  {
   "cell_type": "markdown",
   "metadata": {},
   "source": [
    "## Data Load"
   ]
  },
  {
   "cell_type": "code",
   "execution_count": null,
   "metadata": {
    "colab": {
     "base_uri": "https://localhost:8080/",
     "height": 1153
    },
    "colab_type": "code",
    "executionInfo": {
     "elapsed": 1200,
     "status": "error",
     "timestamp": 1553303908600,
     "user": {
      "displayName": "colab hok001",
      "photoUrl": "",
      "userId": "08064250200332094494"
     },
     "user_tz": 0
    },
    "id": "mMHT659uCTbQ",
    "outputId": "d9a4c83b-5db5-40f7-d088-c75fd68ea56b"
   },
   "outputs": [],
   "source": [
    "import pandas as pd\n",
    "import numpy as np\n",
    "from scipy import stats\n",
    "# from utilities import *\n",
    "import matplotlib.pyplot as plt\n",
    "%matplotlib inline\n",
    "import re\n",
    "from sklearn_pandas import DataFrameMapper\n",
    "from sklearn.model_selection import (train_test_split, cross_val_score, GridSearchCV, KFold)\n",
    "from sklearn import (preprocessing, feature_extraction, linear_model, svm, neighbors, \n",
    "                     gaussian_process, tree, ensemble)\n",
    "from sklearn.metrics import accuracy_score\n",
    "from xgboost import XGBClassifier\n",
    "import pickle\n",
    "import warnings\n",
    "warnings.filterwarnings('ignore')\n",
    "%load_ext autoreload\n",
    "%autoreload\n",
    "\n",
    "train_og = pd.read_csv('../input/train.csv', index_col=0)\n",
    "train_og = train_og.copy()\n",
    "test_X_og = pd.read_csv('../input/test.csv', index_col=0)\n",
    "test_X_og = test_X_og.copy()\n",
    "\n",
    "print('train set shape:', train_og.shape)\n",
    "print('test set shape:', test_X_og.shape)\n",
    "\n",
    "train_X_og, train_Y_og = train_og[train_og.columns[1:]], train_og[train_og.columns[0]]\n",
    "\n",
    "X_og = pd.concat([train_X_og, test_X_og])"
   ]
  },
  {
   "cell_type": "markdown",
   "metadata": {
    "colab_type": "text",
    "id": "xbbS2QZy_QNg"
   },
   "source": [
    "## Feature Classification"
   ]
  },
  {
   "cell_type": "code",
   "execution_count": null,
   "metadata": {
    "colab": {},
    "colab_type": "code",
    "id": "O2lTLdBl_QNg"
   },
   "outputs": [],
   "source": [
    "X_og = X_og.rename(columns={'Pclass' : 'class', 'Name' : 'full name', \n",
    "                           'Sex' : 'sex', 'Age' : 'age', 'SibSp' : 'family size 01', \n",
    "                           'Parch' : 'family size 02', 'Ticket' : 'ticket', \n",
    "                           'Fare' : 'fare', 'Cabin' : 'cabin class number', 'Embarked' : 'embarked'})\n",
    "\n",
    "# print(X_og.columns)\n",
    "\n",
    "categorical = ['class', 'full name', 'sex', 'ticket', 'cabin class number', 'embarked']\n",
    "numerical = ['age', 'fare', 'family size 01', 'family size 02']"
   ]
  },
  {
   "cell_type": "markdown",
   "metadata": {
    "colab_type": "text",
    "id": "bjbpuD4s_QPE"
   },
   "source": [
    "## Check Missing Values "
   ]
  },
  {
   "cell_type": "code",
   "execution_count": null,
   "metadata": {
    "colab": {},
    "colab_type": "code",
    "id": "X0Xd-oJ4_QPE"
   },
   "outputs": [],
   "source": [
    "# print('train_Y missing value:', train_Y_og.isnull().sum())\n",
    "# print()\n",
    "# print('X_og missing value number:')\n",
    "# print((X_og.isnull().sum()).sort_values(ascending=False)[:10])\n",
    "# print()\n",
    "# print('X_og missing value percentage:')\n",
    "# print((X_og.isnull().sum()/len(X_og)).sort_values(ascending=False)[:10])\n",
    "X_fill = X_og.copy()"
   ]
  },
  {
   "cell_type": "markdown",
   "metadata": {
    "colab_type": "text",
    "id": "yPpT8Ibi_QPE"
   },
   "source": [
    "## 'cabin class number' Feature Missing Values"
   ]
  },
  {
   "cell_type": "code",
   "execution_count": null,
   "metadata": {
    "colab": {},
    "colab_type": "code",
    "id": "8D-lJSxi_QPE"
   },
   "outputs": [],
   "source": [
    "# missing_value(X_og['cabin class number'])\n",
    "\n",
    "X_fill['cabin class number'] = X_fill['cabin class number'].fillna('None')"
   ]
  },
  {
   "cell_type": "markdown",
   "metadata": {
    "colab_type": "text",
    "id": "ix9sFH9O_QPE"
   },
   "source": [
    "## 'age' Feature Missing Values "
   ]
  },
  {
   "cell_type": "code",
   "execution_count": null,
   "metadata": {
    "colab": {},
    "colab_type": "code",
    "id": "evDUfJ7t_QPE"
   },
   "outputs": [],
   "source": [
    "# missing_value(X_og['age'])\n",
    "\n",
    "# describe_numerical(X_og['age'])\n",
    "\n",
    "X_fill['age'] = X_fill['age'].fillna(X_fill['age'].median())"
   ]
  },
  {
   "cell_type": "markdown",
   "metadata": {
    "colab_type": "text",
    "id": "DXCpSPpC_QPE"
   },
   "source": [
    "## 'embarked' & 'fare' Feature Missing Values"
   ]
  },
  {
   "cell_type": "code",
   "execution_count": null,
   "metadata": {
    "colab": {},
    "colab_type": "code",
    "id": "4XRv8XMU_QPE"
   },
   "outputs": [],
   "source": [
    "# missing_value(X_og['embarked'])\n",
    "\n",
    "X_fill['embarked'].describe()\n",
    "\n",
    "X_fill['embarked'] = X_fill['embarked'].fillna(X_fill['embarked'].describe()['top'])\n",
    "\n",
    "# missing_value(X_og['fare'])\n",
    "\n",
    "# describe_numerical(X_og['fare'])\n",
    "\n",
    "X_fill['fare'] = X_fill['fare'].fillna(X_fill['fare'].median())"
   ]
  },
  {
   "cell_type": "markdown",
   "metadata": {
    "colab_type": "text",
    "id": "Y3sU9AAF_QPE"
   },
   "source": [
    "## Check Filled Missing Values"
   ]
  },
  {
   "cell_type": "code",
   "execution_count": null,
   "metadata": {
    "colab": {},
    "colab_type": "code",
    "id": "RNj-UQLm_QPE"
   },
   "outputs": [],
   "source": [
    "# print('X_fill missing value number:')\n",
    "# print((X_fill.isnull().sum()).sort_values(ascending=False)[:10])\n",
    "# print('X_fill missing value percentage:')\n",
    "# print((X_fill.isnull().sum()/len(X_fill)).sort_values(ascending=False)[:10])"
   ]
  },
  {
   "cell_type": "markdown",
   "metadata": {
    "colab_type": "text",
    "id": "_poIk17N_QPE"
   },
   "source": [
    "## Numerical Feature Skewness & Kurtosis"
   ]
  },
  {
   "cell_type": "code",
   "execution_count": null,
   "metadata": {
    "colab": {},
    "colab_type": "code",
    "id": "oY99FqLn_QPE",
    "outputId": "3bc2828f-3c99-4531-86e2-276ae95a7395"
   },
   "outputs": [],
   "source": [
    "# for i in numerical: print(i+' skewness:', X_og[i].skew())\n",
    "\n",
    "X_fill['fare'] = np.log1p(X_fill['fare'])\n",
    "\n",
    "# print('fare skewness:', X_og['fare'].skew())"
   ]
  },
  {
   "cell_type": "markdown",
   "metadata": {},
   "source": [
    "## Drop 'ticket' Feature"
   ]
  },
  {
   "cell_type": "code",
   "execution_count": null,
   "metadata": {},
   "outputs": [],
   "source": [
    "X_fill = X_fill.drop('ticket', axis=1)"
   ]
  },
  {
   "cell_type": "markdown",
   "metadata": {},
   "source": [
    "## Add Feature 'cabin class' & Drop 'cabin class number' Feature"
   ]
  },
  {
   "cell_type": "code",
   "execution_count": null,
   "metadata": {},
   "outputs": [],
   "source": [
    "X_fill['cabin class'] = list(X_fill['cabin class number'].str[0])\n",
    "\n",
    "X_fill = X_fill.drop('cabin class number', axis=1)"
   ]
  },
  {
   "cell_type": "markdown",
   "metadata": {},
   "source": [
    "## Add Feature 'family size' & Drop 'family size 01/02' Features"
   ]
  },
  {
   "cell_type": "code",
   "execution_count": null,
   "metadata": {},
   "outputs": [],
   "source": [
    "X_fill['family size'] = X_fill['family size 01'] + X_fill['family size 02'] + 1\n",
    "\n",
    "X_fill = X_fill.drop(['family size 01', 'family size 02'], axis=1)"
   ]
  },
  {
   "cell_type": "markdown",
   "metadata": {},
   "source": [
    "## Add Feature 'alone'"
   ]
  },
  {
   "cell_type": "code",
   "execution_count": null,
   "metadata": {},
   "outputs": [],
   "source": [
    "X_fill['alone'] = np.where(X_fill['family size'] == 1, 1, 0)"
   ]
  },
  {
   "cell_type": "markdown",
   "metadata": {},
   "source": [
    "## Add Feature 'honorific' & Drop 'full name' Feature"
   ]
  },
  {
   "cell_type": "code",
   "execution_count": null,
   "metadata": {},
   "outputs": [],
   "source": [
    "honorific = [i[0] for i in X_fill['full name'].str.split(', ', expand=True)[1].str.split('.')]\n",
    "\n",
    "X_fill['honorific'] = honorific\n",
    "\n",
    "X_fill = X_fill.drop('full name', axis=1)"
   ]
  },
  {
   "cell_type": "markdown",
   "metadata": {
    "colab_type": "text",
    "id": "F3EMrZ9k_QQo"
   },
   "source": [
    "## Feature Value Transformation"
   ]
  },
  {
   "cell_type": "code",
   "execution_count": null,
   "metadata": {
    "colab": {},
    "colab_type": "code",
    "id": "3t3pGAst_QQo",
    "outputId": "3cd08777-89d6-435d-9e35-05d2285e10e5"
   },
   "outputs": [],
   "source": [
    "X_pre_transform = X_fill.copy()\n",
    "\n",
    "# print(X_pre_transform.columns)\n",
    "\n",
    "nominal = ['sex', 'alone', 'honorific']\n",
    "ordinal = ['class', 'embarked', 'cabin class']\n",
    "discrete = ['family size']\n",
    "continuous = ['age', 'fare']\n",
    "\n",
    "mapper = DataFrameMapper([\n",
    "    (nominal, preprocessing.OneHotEncoder(sparse=False)), \n",
    "    (ordinal, preprocessing.OrdinalEncoder()), \n",
    "    (discrete, preprocessing.LabelEncoder()), \n",
    "    (continuous, preprocessing.StandardScaler())], \n",
    "    df_out=True)\n",
    "\n",
    "X = mapper.fit_transform(X_pre_transform)\n",
    "\n",
    "# print('X feature set shape:', X.shape)"
   ]
  },
  {
   "cell_type": "markdown",
   "metadata": {
    "colab_type": "text",
    "id": "id3-Q-Hf_QQo"
   },
   "source": [
    "## Create Train, Dev, Test Sets"
   ]
  },
  {
   "cell_type": "code",
   "execution_count": null,
   "metadata": {
    "colab": {},
    "colab_type": "code",
    "id": "SlhHqHRi_QQo"
   },
   "outputs": [],
   "source": [
    "train_X = X.loc[train_X_og.index].to_numpy()\n",
    "test_X = X.loc[test_X_og.index].to_numpy()\n",
    "\n",
    "train_Y = train_Y_og.to_numpy()\n",
    "\n",
    "train_X, dev_X, train_Y, dev_Y = train_test_split(train_X, train_Y, random_state=42)"
   ]
  },
  {
   "cell_type": "markdown",
   "metadata": {},
   "source": [
    "## Model 01 - Logistic Regression L1 Regularization"
   ]
  },
  {
   "cell_type": "code",
   "execution_count": null,
   "metadata": {},
   "outputs": [],
   "source": [
    "model1 = linear_model.LogisticRegression(penalty='l1', multi_class='ovr', max_iter=1000)\n",
    "\n",
    "grid1 = {'C' : [0.01, 0.1, 1, 2, 3, 4, 5, 6, 7, 8, 9], \n",
    "         'solver' : ['liblinear', 'saga']}\n",
    "\n",
    "model1 = gridsearchcv(model1, grid1, train_X, train_Y, dev_X, dev_Y)"
   ]
  },
  {
   "cell_type": "code",
   "execution_count": null,
   "metadata": {},
   "outputs": [],
   "source": [
    "pickle.dump(model1, open('model1.sav', 'wb'))\n",
    "model1_load = pickle.load(open('model1.sav', 'rb'))\n",
    "y1 = model6_load.predict(test_X)\n",
    "y1_save = pd.DataFrame(data=[test_X_og.index, y1]).T\n",
    "y1_save.columns = ['PassengerId', 'Survived']\n",
    "y1_save = y1_save.astype('int32')\n",
    "y1_save.to_csv('y1.csv', index=False)"
   ]
  },
  {
   "cell_type": "markdown",
   "metadata": {
    "colab_type": "text",
    "id": "N3vVM0dX_QQo"
   },
   "source": [
    "## Model 02 - Logistic Regression L2 Regularization"
   ]
  },
  {
   "cell_type": "code",
   "execution_count": null,
   "metadata": {
    "colab": {},
    "colab_type": "code",
    "id": "RHm_zod-_QQo"
   },
   "outputs": [],
   "source": [
    "model2 = linear_model.LogisticRegression(penalty='l2', max_iter=1000)\n",
    "\n",
    "grid2 = {'C' : [1, 2, 3, 4, 5], \n",
    "         'solver' : ['newton-cg', 'lbfgs', 'sag']}\n",
    "\n",
    "model2 = gridsearchcv(model2, grid2, train_X, train_Y, dev_X, dev_Y)"
   ]
  },
  {
   "cell_type": "code",
   "execution_count": null,
   "metadata": {},
   "outputs": [],
   "source": [
    "pickle.dump(model2, open('model2.sav', 'wb'))\n",
    "model2_load = pickle.load(open('model2.sav', 'rb'))\n",
    "y2 = model6_load.predict(test_X)\n",
    "y2_save = pd.DataFrame(data=[test_X_og.index, y2]).T\n",
    "y2_save.columns = ['PassengerId', 'Survived']\n",
    "y2_save = y2_save.astype('int32')\n",
    "y2_save.to_csv('y2.csv', index=False)"
   ]
  },
  {
   "cell_type": "markdown",
   "metadata": {},
   "source": [
    "## Model 03 - Support Vector Machine "
   ]
  },
  {
   "cell_type": "code",
   "execution_count": null,
   "metadata": {},
   "outputs": [],
   "source": [
    "model3 = svm.SVC(decision_function_shape='ovr', random_state=42)\n",
    "\n",
    "grid3 = {'C' : [0.01, 0.1, 1, 2, 3, 4, 5, 6, 7, 8, 9], \n",
    "         'kernel' : ['linear', 'poly', 'rbf', 'sigmoid'], \n",
    "         'degree' : [2, 3]}\n",
    "\n",
    "model3 = gridsearchcv(model3, grid3, train_X, train_Y, dev_X, dev_Y)"
   ]
  },
  {
   "cell_type": "code",
   "execution_count": null,
   "metadata": {},
   "outputs": [],
   "source": [
    "pickle.dump(model3, open('model3.sav', 'wb'))\n",
    "model3_load = pickle.load(open('model3.sav', 'rb'))\n",
    "y3 = model6_load.predict(test_X)\n",
    "y3_save = pd.DataFrame(data=[test_X_og.index, y3]).T\n",
    "y3_save.columns = ['PassengerId', 'Survived']\n",
    "y3_save = y3_save.astype('int32')\n",
    "y3_save.to_csv('y3.csv', index=False)"
   ]
  },
  {
   "cell_type": "markdown",
   "metadata": {
    "colab_type": "text",
    "id": "2vKMoxGn_QQo"
   },
   "source": [
    "## Model 04 - Stochastic Gradient Descent "
   ]
  },
  {
   "cell_type": "code",
   "execution_count": null,
   "metadata": {
    "colab_type": "text",
    "id": "YC5jDyDN_QQo"
   },
   "outputs": [],
   "source": [
    "model4 = linear_model.SGDClassifier(early_stopping=True, validation_fraction=0.1, \n",
    "                                     tol=1e-4, n_iter_no_change=5, random_state=42)\n",
    "\n",
    "grid4 = {'loss' : ['hinge', 'log', 'modified_huber', 'squared_hinge', 'perceptron'], \n",
    "        'penalty' : ['l1', 'l2', 'elasticnet'], \n",
    "        'alpha' : [0.0001, 0.001, 0.01, 0.1, 0.5, 1, 2, 3, 4, 5], \n",
    "        'l1_ratio' : [0.01, 0.1, 0.2, 0.3, 0.4, 0.5, 0.6, 0.7, 0.8, 0.9, 1]}\n",
    "\n",
    "model4 = gridsearchcv(model4, grid4, train_X, train_Y, dev_X, dev_Y)"
   ]
  },
  {
   "cell_type": "code",
   "execution_count": null,
   "metadata": {
    "colab_type": "text",
    "id": "Dud-gFL3_QQo"
   },
   "outputs": [],
   "source": [
    "pickle.dump(model4, open('model4.sav', 'wb'))\n",
    "model4_load = pickle.load(open('model4.sav', 'rb'))\n",
    "y4 = model4_load.predict(test_X)\n",
    "y4_save = pd.DataFrame(data=[test_X_og.index, y4]).T\n",
    "y4_save.columns = ['PassengerId', 'Survived']\n",
    "y4_save = y4_save.astype('int32')\n",
    "y4_save.to_csv('y4.csv', index=False)"
   ]
  },
  {
   "cell_type": "markdown",
   "metadata": {},
   "source": [
    "## Model 05 - Nearest Neighbors"
   ]
  },
  {
   "cell_type": "code",
   "execution_count": null,
   "metadata": {},
   "outputs": [],
   "source": [
    "model5 = neighbors.KNeighborsClassifier()\n",
    "\n",
    "grid5 = {'n_neighbors' : [3, 4, 5, 6, 7, 8, 9], \n",
    "         'weights' : ['uniform', 'distance'], \n",
    "         'algorithm' : ['ball_tree', 'kd_tree', 'brute'], \n",
    "         'leaf_size' : [20, 30, 40, 50, 60], \n",
    "         'p' : [1, 2]}\n",
    "\n",
    "model5 = gridsearchcv(model5, grid5, train_X, train_Y, dev_X, dev_Y)"
   ]
  },
  {
   "cell_type": "code",
   "execution_count": null,
   "metadata": {},
   "outputs": [],
   "source": [
    "y5 = model5.predict(test_X)\n",
    "y5_save = pd.DataFrame(data=[test_X_og.index, y5]).T\n",
    "y5_save.columns = ['PassengerId', 'Survived']\n",
    "y5_save = y5_save.astype('int32')\n",
    "y5_save.to_csv('y5.csv', index=False)"
   ]
  },
  {
   "cell_type": "markdown",
   "metadata": {},
   "source": [
    "## Model 06 - Gaussian Process"
   ]
  },
  {
   "cell_type": "code",
   "execution_count": null,
   "metadata": {},
   "outputs": [],
   "source": [
    "model6 = gaussian_process.GaussianProcessClassifier(random_state=42)\n",
    "\n",
    "grid6 = {}\n",
    "\n",
    "model6 = gridsearchcv(model6, grid6, train_X, train_Y, dev_X, dev_Y)"
   ]
  },
  {
   "cell_type": "code",
   "execution_count": null,
   "metadata": {},
   "outputs": [],
   "source": [
    "y6 = model6.predict(test_X)\n",
    "y6_save = pd.DataFrame(data=[test_X_og.index, y6]).T\n",
    "y6_save.columns = ['PassengerId', 'Survived']\n",
    "y6_save = y6_save.astype('int32')\n",
    "y6_save.to_csv('y6.csv', index=False)"
   ]
  },
  {
   "cell_type": "code",
   "execution_count": null,
   "metadata": {},
   "outputs": [],
   "source": []
  },
  {
   "cell_type": "code",
   "execution_count": null,
   "metadata": {},
   "outputs": [],
   "source": []
  },
  {
   "cell_type": "code",
   "execution_count": null,
   "metadata": {},
   "outputs": [],
   "source": []
  },
  {
   "cell_type": "code",
   "execution_count": null,
   "metadata": {},
   "outputs": [],
   "source": []
  },
  {
   "cell_type": "markdown",
   "metadata": {
    "colab_type": "text",
    "id": "m5CZu0JO_QQo"
   },
   "source": [
    "## Model 07 - Decision Tree Classifier"
   ]
  },
  {
   "cell_type": "markdown",
   "metadata": {
    "colab_type": "text",
    "id": "VFsy1iOr_QQo"
   },
   "source": [
    "model2 = tree.DecisionTreeClassifier(random_state=42)\n",
    "grid2 = {'criterion' : ['gini', 'entropy'], \n",
    "         'max_depth' : [2, 3, 4, 5, 6, 7, 8, 9, 10], \n",
    "         'min_samples_leaf' : [2, 3, 4, 5, 6, 7, 8, 9, 10]}\n",
    "\n",
    "model2 = gridsearchcv(model2, grid2, train_X, train_Y, dev_X, dev_Y)\n",
    "\n",
    "pickle.dump(model2, open('model2.sav', 'wb'))"
   ]
  },
  {
   "cell_type": "markdown",
   "metadata": {
    "colab_type": "text",
    "id": "pkCp1ydL_QQo"
   },
   "source": [
    "model2_load = pickle.load(open('model2.sav', 'rb'))\n",
    "y2 = model2_load.predict(test_X)\n",
    "\n",
    "submit(test_X_og, y2)"
   ]
  },
  {
   "cell_type": "markdown",
   "metadata": {
    "colab_type": "text",
    "id": "LBPuihkn_QQo"
   },
   "source": [
    "## Model 08 - Gradient Boosting Classifier"
   ]
  },
  {
   "cell_type": "markdown",
   "metadata": {
    "colab_type": "text",
    "id": "2ri9XLBp_QQo"
   },
   "source": [
    "model5 = ensemble.GradientBoostingClassifier(learning_rate=1, loss='deviance', random_state=42)\n",
    "grid5 = {'n_estimators' : [150, 200, 250, 300, 350], \n",
    "        'max_depth' : [3, 4, 5, 6, 7]}\n",
    "\n",
    "model5 = gridsearchcv(model5, grid5, train_X, train_Y, dev_X, dev_Y)\n",
    "\n",
    "pickle.dump(model5, open('model5.sav', 'wb'))"
   ]
  },
  {
   "cell_type": "markdown",
   "metadata": {
    "colab_type": "text",
    "id": "0pagcXDZ_QQo"
   },
   "source": [
    "model5_load = pickle.load(open('model5.sav', 'rb'))\n",
    "y5 = model5_load.predict(test_X)\n",
    "\n",
    "submit(test_X_og, y5)"
   ]
  },
  {
   "cell_type": "markdown",
   "metadata": {
    "colab_type": "text",
    "id": "RyhBN2ep_QQo"
   },
   "source": [
    "## Model 09 - XGBClassifier"
   ]
  },
  {
   "cell_type": "markdown",
   "metadata": {
    "colab_type": "text",
    "id": "1VYBkv4A_QSM"
   },
   "source": [
    "model6 = XGBClassifier(objective='binary:logistic', eval_metric='error', \n",
    "                       n_estimators=100, verbosity=2, random_state=42)\n",
    "grid6 = {'max_depth' : [3, 4, 5, 6, 7], \n",
    "        'learning_rate' : [0.01, 0.1, 1]}\n",
    "\n",
    "model6 = gridsearchcv(model6, grid6, train_X, train_Y, dev_X, dev_Y)\n",
    "\n",
    "pickle.dump(model6, open('model6.sav', 'wb'))"
   ]
  },
  {
   "cell_type": "markdown",
   "metadata": {
    "colab_type": "text",
    "id": "psWI0YCh_QSM"
   },
   "source": [
    "model6_load = pickle.load(open('model6.sav', 'rb'))\n",
    "y6 = model6_load.predict(test_X)\n",
    "\n",
    "submit(test_X_og, y6)"
   ]
  },
  {
   "cell_type": "markdown",
   "metadata": {
    "colab_type": "text",
    "id": "lwsFBxQ4_QSM"
   },
   "source": [
    "----"
   ]
  },
  {
   "cell_type": "code",
   "execution_count": null,
   "metadata": {
    "colab": {},
    "colab_type": "code",
    "id": "9hfALQ6y_QSM"
   },
   "outputs": [],
   "source": []
  },
  {
   "cell_type": "code",
   "execution_count": null,
   "metadata": {
    "colab": {},
    "colab_type": "code",
    "id": "HAoX9nFQ_QSM"
   },
   "outputs": [],
   "source": []
  },
  {
   "cell_type": "code",
   "execution_count": null,
   "metadata": {
    "colab": {},
    "colab_type": "code",
    "id": "YeGF5sC0_QSM"
   },
   "outputs": [],
   "source": []
  },
  {
   "cell_type": "code",
   "execution_count": null,
   "metadata": {
    "colab": {},
    "colab_type": "code",
    "id": "-wneOHmA_QSM"
   },
   "outputs": [],
   "source": []
  }
 ],
 "metadata": {
  "accelerator": "GPU",
  "colab": {
   "collapsed_sections": [],
   "name": "titanic_v1.ipynb",
   "provenance": [],
   "toc_visible": true,
   "version": "0.3.2"
  },
  "kernelspec": {
   "display_name": "Python 3",
   "language": "python",
   "name": "python3"
  },
  "language_info": {
   "codemirror_mode": {
    "name": "ipython",
    "version": 3
   },
   "file_extension": ".py",
   "mimetype": "text/x-python",
   "name": "python",
   "nbconvert_exporter": "python",
   "pygments_lexer": "ipython3",
   "version": "3.6.8"
  }
 },
 "nbformat": 4,
 "nbformat_minor": 1
}
