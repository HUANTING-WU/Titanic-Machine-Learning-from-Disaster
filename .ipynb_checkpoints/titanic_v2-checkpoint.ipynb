{
 "cells": [
  {
   "cell_type": "markdown",
   "metadata": {},
   "source": [
    "## Dataset Loading"
   ]
  },
  {
   "cell_type": "code",
   "execution_count": 1,
   "metadata": {},
   "outputs": [],
   "source": [
    "import pandas as pd\n",
    "import numpy as np\n",
    "from scipy import stats\n",
    "from utilities import *\n",
    "import matplotlib.pyplot as plt\n",
    "%matplotlib inline\n",
    "import re\n",
    "from sklearn_pandas import DataFrameMapper\n",
    "from sklearn.model_selection import (train_test_split, cross_val_score, GridSearchCV, KFold)\n",
    "from sklearn import (preprocessing, feature_extraction, \n",
    "                     linear_model, tree, svm, neighbors, naive_bayes, ensemble)\n",
    "from sklearn.metrics import accuracy_score\n",
    "from xgboost import XGBClassifier\n",
    "import pickle\n",
    "import warnings\n",
    "warnings.filterwarnings('ignore')\n",
    "%load_ext autoreload\n",
    "%autoreload\n",
    "\n",
    "train_og = pd.read_csv('train.csv', index_col=0)\n",
    "train_og = train_og.copy()\n",
    "test_X_og = pd.read_csv('test.csv', index_col=0)\n",
    "test_X_og = test_X_og.copy()\n",
    "\n",
    "# print('train set shape:', train_og.shape)\n",
    "# print('test set shape:', test_X_og.shape)\n",
    "\n",
    "train_X_og, train_Y_og = train_og[train_og.columns[1:]], train_og[train_og.columns[0]]\n",
    "\n",
    "X_og = pd.concat([train_X_og, test_X_og])"
   ]
  },
  {
   "cell_type": "markdown",
   "metadata": {},
   "source": [
    "## Feature Classification"
   ]
  },
  {
   "cell_type": "code",
   "execution_count": 2,
   "metadata": {},
   "outputs": [],
   "source": [
    "X_og = X_og.rename(columns={'Pclass' : 'class', 'Name' : 'full name', \n",
    "                           'Sex' : 'sex', 'Age' : 'age', 'SibSp' : 'family size 01', \n",
    "                           'Parch' : 'family size 02', 'Ticket' : 'ticket', \n",
    "                           'Fare' : 'fare', 'Cabin' : 'cabin class number', 'Embarked' : 'embarked'})\n",
    "\n",
    "# print(X_og.columns)\n",
    "\n",
    "categorical = ['class', 'full name', 'sex', 'ticket', 'cabin class number', 'embarked']\n",
    "numerical = ['age', 'fare', 'family size 01', 'family size 02']"
   ]
  },
  {
   "cell_type": "markdown",
   "metadata": {},
   "source": [
    "## Check Missing Values "
   ]
  },
  {
   "cell_type": "code",
   "execution_count": 3,
   "metadata": {},
   "outputs": [],
   "source": [
    "# print('train_Y missing value:', train_Y_og.isnull().sum())\n",
    "# print()\n",
    "# print('X_og missing value number:')\n",
    "# print((X_og.isnull().sum()).sort_values(ascending=False)[:10])\n",
    "# print()\n",
    "# print('X_og missing value percentage:')\n",
    "# print((X_og.isnull().sum()/len(X_og)).sort_values(ascending=False)[:10])\n",
    "X_fill = X_og.copy()"
   ]
  },
  {
   "cell_type": "markdown",
   "metadata": {},
   "source": [
    "## 'cabin class number' Feature Missing Values"
   ]
  },
  {
   "cell_type": "code",
   "execution_count": 4,
   "metadata": {},
   "outputs": [],
   "source": [
    "# missing_value(X_og['cabin class number'])\n",
    "\n",
    "X_og['cabin class number'].describe()\n",
    "\n",
    "X_fill['cabin class number'] = X_fill['cabin class number'].fillna('None')"
   ]
  },
  {
   "cell_type": "markdown",
   "metadata": {},
   "source": [
    "## 'age' Feature Missing Values "
   ]
  },
  {
   "cell_type": "code",
   "execution_count": 5,
   "metadata": {},
   "outputs": [],
   "source": [
    "# missing_value(X_og['age'])\n",
    "\n",
    "# describe_numerical(X_og['age'])\n",
    "\n",
    "X_fill['age'] = X_fill['age'].fillna(X_og['age'].median())"
   ]
  },
  {
   "cell_type": "markdown",
   "metadata": {},
   "source": [
    "## 'embarked' & 'fare' Feature Missing Values"
   ]
  },
  {
   "cell_type": "code",
   "execution_count": 6,
   "metadata": {},
   "outputs": [],
   "source": [
    "# missing_value(X_og['embarked'])\n",
    "\n",
    "X_og['embarked'].describe()\n",
    "\n",
    "X_fill['embarked'] = X_fill['embarked'].fillna(X_og['embarked'].describe()['top'])\n",
    "\n",
    "# missing_value(X_og['fare'])\n",
    "\n",
    "# describe_numerical(X_og['fare'])\n",
    "\n",
    "X_fill['fare'] = X_fill['fare'].fillna(X_og['fare'].median())"
   ]
  },
  {
   "cell_type": "markdown",
   "metadata": {},
   "source": [
    "## Check Filled Missing Values"
   ]
  },
  {
   "cell_type": "code",
   "execution_count": 7,
   "metadata": {},
   "outputs": [],
   "source": [
    "# print('X_fill missing value number:')\n",
    "# print((X_fill.isnull().sum()).sort_values(ascending=False)[:10])\n",
    "# print('X_fill missing value percentage:')\n",
    "# print((X_fill.isnull().sum()/len(X_fill)).sort_values(ascending=False)[:10])"
   ]
  },
  {
   "cell_type": "markdown",
   "metadata": {},
   "source": [
    "## Numerical Feature Skewness & Kurtosis"
   ]
  },
  {
   "cell_type": "code",
   "execution_count": 8,
   "metadata": {},
   "outputs": [],
   "source": [
    "# for i in numerical: print(i+' skewness:', X_og[i].skew())\n",
    "\n",
    "X_og['fare'] = np.log1p(X_og['fare'])\n",
    "\n",
    "# print('fare skewness:', X_og['fare'].skew())"
   ]
  },
  {
   "cell_type": "markdown",
   "metadata": {},
   "source": [
    "## Drop 'ticket' Feature"
   ]
  },
  {
   "cell_type": "code",
   "execution_count": 9,
   "metadata": {},
   "outputs": [],
   "source": [
    "X_fill = X_fill.drop('ticket', axis=1)"
   ]
  },
  {
   "cell_type": "markdown",
   "metadata": {},
   "source": [
    "## Add Feature 'cabin class' & Drop 'cabin class number' Feature"
   ]
  },
  {
   "cell_type": "code",
   "execution_count": 10,
   "metadata": {},
   "outputs": [],
   "source": [
    "X_fill['cabin class'] = list(X_fill['cabin class number'].str[0])\n",
    "\n",
    "X_fill = X_fill.drop('cabin class number', axis=1)"
   ]
  },
  {
   "cell_type": "markdown",
   "metadata": {},
   "source": [
    "## Add Feature 'family size' & Drop 'family size 01/02' Features"
   ]
  },
  {
   "cell_type": "code",
   "execution_count": 11,
   "metadata": {},
   "outputs": [],
   "source": [
    "X_fill['family size'] = X_fill['family size 01'] + X_fill['family size 02'] + 1\n",
    "\n",
    "X_fill = X_fill.drop(['family size 01', 'family size 02'], axis=1)"
   ]
  },
  {
   "cell_type": "markdown",
   "metadata": {},
   "source": [
    "## Add Feature 'alone'"
   ]
  },
  {
   "cell_type": "code",
   "execution_count": 12,
   "metadata": {},
   "outputs": [],
   "source": [
    "X_fill['alone'] = np.where(X_fill['family size'] == 1, 1, 0)"
   ]
  },
  {
   "cell_type": "markdown",
   "metadata": {},
   "source": [
    "## Add Feature 'honorific' & Drop 'full name' Feature"
   ]
  },
  {
   "cell_type": "code",
   "execution_count": 13,
   "metadata": {},
   "outputs": [],
   "source": [
    "honorific = [i[0] for i in X_fill['full name'].str.split(', ', expand=True)[1].str.split('.')]\n",
    "\n",
    "X_fill['honorific'] = honorific\n",
    "\n",
    "X_fill = X_fill.drop('full name', axis=1)"
   ]
  },
  {
   "cell_type": "markdown",
   "metadata": {},
   "source": [
    "## Feature Value Transformation"
   ]
  },
  {
   "cell_type": "code",
   "execution_count": 14,
   "metadata": {},
   "outputs": [],
   "source": [
    "X_pre_transform = X_fill.copy()\n",
    "\n",
    "# print(X_pre_transform.columns)\n",
    "\n",
    "nominal = ['sex', 'alone', 'honorific']\n",
    "ordinal = ['class', 'embarked', 'cabin class']\n",
    "discrete = ['family size']\n",
    "continuous = ['age', 'fare']\n",
    "\n",
    "mapper = DataFrameMapper([\n",
    "    (nominal, preprocessing.OneHotEncoder(sparse=False)), \n",
    "    (ordinal, preprocessing.OrdinalEncoder()), \n",
    "    (discrete, preprocessing.LabelEncoder()), \n",
    "    (continuous, preprocessing.StandardScaler())], \n",
    "    df_out=True)\n",
    "\n",
    "X = mapper.fit_transform(X_pre_transform)\n",
    "\n",
    "# print('X feature set shape:', X.shape)"
   ]
  },
  {
   "cell_type": "markdown",
   "metadata": {},
   "source": [
    "## Create Train, Dev, Test Sets"
   ]
  },
  {
   "cell_type": "code",
   "execution_count": 15,
   "metadata": {},
   "outputs": [],
   "source": [
    "train_X = X.loc[train_X_og.index].to_numpy()\n",
    "test_X = X.loc[test_X_og.index].to_numpy()\n",
    "\n",
    "train_Y = train_Y_og.to_numpy()\n",
    "\n",
    "train_X, dev_X, train_Y, dev_Y = train_test_split(train_X, train_Y, random_state=42)"
   ]
  },
  {
   "cell_type": "markdown",
   "metadata": {},
   "source": [
    "## Model 7 - Neural Network"
   ]
  },
  {
   "cell_type": "code",
   "execution_count": 16,
   "metadata": {},
   "outputs": [
    {
     "name": "stderr",
     "output_type": "stream",
     "text": [
      "Using TensorFlow backend.\n"
     ]
    }
   ],
   "source": [
    "from keras.callbacks import (History, EarlyStopping)\n",
    "from keras.models import Sequential\n",
    "from keras.layers import Dense\n",
    "from keras import losses\n",
    "from keras import metrics\n",
    "from keras import optimizers\n",
    "from keras import initializers\n",
    "from keras import regularizers"
   ]
  },
  {
   "cell_type": "code",
   "execution_count": 17,
   "metadata": {},
   "outputs": [],
   "source": [
    "batch_size = 64\n",
    "epochs = 1000\n",
    "lr = 0.0001\n",
    "l1 = 0.0015\n",
    "l2 = 0.0006"
   ]
  },
  {
   "cell_type": "code",
   "execution_count": 18,
   "metadata": {},
   "outputs": [
    {
     "name": "stdout",
     "output_type": "stream",
     "text": [
      "train set loss: 0.5809\n",
      "dev set loss: 0.5606\n",
      "train set accuracy: 0.8069\n",
      "dev set accuracy: 0.8072\n"
     ]
    },
    {
     "data": {
      "image/png": "[encoded data removed]",
      "text/plain": [
       "<Figure size 432x288 with 1 Axes>"
      ]
     },
     "metadata": {
      "needs_background": "light"
     },
     "output_type": "display_data"
    },
    {
     "data": {
      "image/png": "[encoded data removed]",
      "text/plain": [
       "<Figure size 432x288 with 1 Axes>"
      ]
     },
     "metadata": {
      "needs_background": "light"
     },
     "output_type": "display_data"
    }
   ],
   "source": [
    "model_nn, history, early_stop = create_nn(train_X, train_Y, dev_X, dev_Y, l1, l2, lr, batch_size, epochs)\n",
    "\n",
    "plot_result(history)"
   ]
  },
  {
   "cell_type": "markdown",
   "metadata": {},
   "source": [
    "----"
   ]
  },
  {
   "cell_type": "code",
   "execution_count": 19,
   "metadata": {},
   "outputs": [],
   "source": [
    "y_prob = model_nn.predict(test_X)\n",
    "\n",
    "y_binary = np.where(y_prob > 0.5, 1, 0)\n",
    "\n",
    "submit(test_X_og, y_binary)"
   ]
  },
  {
   "cell_type": "markdown",
   "metadata": {},
   "source": [
    "----"
   ]
  },
  {
   "cell_type": "code",
   "execution_count": null,
   "metadata": {},
   "outputs": [],
   "source": []
  },
  {
   "cell_type": "code",
   "execution_count": null,
   "metadata": {},
   "outputs": [],
   "source": []
  },
  {
   "cell_type": "code",
   "execution_count": null,
   "metadata": {},
   "outputs": [],
   "source": []
  },
  {
   "cell_type": "code",
   "execution_count": null,
   "metadata": {},
   "outputs": [],
   "source": []
  }
 ],
 "metadata": {
  "kernelspec": {
   "display_name": "Python 3",
   "language": "python",
   "name": "python3"
  },
  "language_info": {
   "codemirror_mode": {
    "name": "ipython",
    "version": 3
   },
   "file_extension": ".py",
   "mimetype": "text/x-python",
   "name": "python",
   "nbconvert_exporter": "python",
   "pygments_lexer": "ipython3",
   "version": "3.6.8"
  }
 },
 "nbformat": 4,
 "nbformat_minor": 2
}
