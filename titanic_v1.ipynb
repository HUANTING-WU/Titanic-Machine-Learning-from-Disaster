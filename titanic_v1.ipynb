{
 "cells": [
  {
   "cell_type": "markdown",
   "metadata": {},
   "source": [
    "## Dataset Loading"
   ]
  },
  {
   "cell_type": "code",
   "execution_count": 1,
   "metadata": {},
   "outputs": [
    {
     "name": "stdout",
     "output_type": "stream",
     "text": [
      "train set shape: (891, 11)\n",
      "test set shape: (418, 10)\n"
     ]
    }
   ],
   "source": [
    "import pandas as pd\n",
    "import numpy as np\n",
    "from scipy import stats\n",
    "from utilities import *\n",
    "import matplotlib.pyplot as plt\n",
    "%matplotlib inline\n",
    "import re\n",
    "from sklearn_pandas import DataFrameMapper\n",
    "from sklearn.model_selection import (train_test_split, cross_val_score, GridSearchCV, KFold)\n",
    "from sklearn import (preprocessing, feature_extraction, \n",
    "                     linear_model, tree, svm, neighbors, naive_bayes, ensemble)\n",
    "from sklearn.metrics import accuracy_score\n",
    "from xgboost import XGBClassifier\n",
    "import pickle\n",
    "import warnings\n",
    "warnings.filterwarnings('ignore')\n",
    "%load_ext autoreload\n",
    "%autoreload\n",
    "\n",
    "train_og = pd.read_csv('train.csv', index_col=0)\n",
    "train_og = train_og.copy()\n",
    "test_X_og = pd.read_csv('test.csv', index_col=0)\n",
    "test_X_og = test_X_og.copy()\n",
    "\n",
    "print('train set shape:', train_og.shape)\n",
    "print('test set shape:', test_X_og.shape)\n",
    "\n",
    "train_X_og, train_Y_og = train_og[train_og.columns[1:]], train_og[train_og.columns[0]]\n",
    "\n",
    "X_og = pd.concat([train_X_og, test_X_og])"
   ]
  },
  {
   "cell_type": "markdown",
   "metadata": {},
   "source": [
    "## Feature Classification"
   ]
  },
  {
   "cell_type": "code",
   "execution_count": 2,
   "metadata": {},
   "outputs": [],
   "source": [
    "categorical = ['Pclass', 'Name', 'Sex', 'SibSp', 'Parch', 'Ticket', 'Cabin', 'Embarked']\n",
    "numerical = ['Age', 'Fare']"
   ]
  },
  {
   "cell_type": "markdown",
   "metadata": {},
   "source": [
    "## Check Missing Values "
   ]
  },
  {
   "cell_type": "code",
   "execution_count": 3,
   "metadata": {},
   "outputs": [],
   "source": [
    "# print('train_Y missing value:', train_Y_og.isnull().sum())\n",
    "# print()\n",
    "# print('X_og missing value number:')\n",
    "# print((X_og.isnull().sum()).sort_values(ascending=False)[:10])\n",
    "# print()\n",
    "# print('X_og missing value percentage:')\n",
    "# print((X_og.isnull().sum()/len(X_og)).sort_values(ascending=False)[:10])\n",
    "X_fill = X_og.copy()"
   ]
  },
  {
   "cell_type": "markdown",
   "metadata": {},
   "source": [
    "## 'Cabin' Feature Missing Values"
   ]
  },
  {
   "cell_type": "code",
   "execution_count": 4,
   "metadata": {},
   "outputs": [],
   "source": [
    "# missing_value(X_og['Cabin'])\n",
    "\n",
    "X_og['Cabin'].describe()\n",
    "\n",
    "X_fill['Cabin'] = X_fill['Cabin'].fillna('None')"
   ]
  },
  {
   "cell_type": "markdown",
   "metadata": {},
   "source": [
    "## 'Age' Feature Missing Values "
   ]
  },
  {
   "cell_type": "code",
   "execution_count": 5,
   "metadata": {},
   "outputs": [],
   "source": [
    "# missing_value(X_og['Age'])\n",
    "\n",
    "# describe_numerical(X_og['Age'])\n",
    "\n",
    "X_fill['Age'] = X_fill['Age'].fillna(X_og['Age'].median())"
   ]
  },
  {
   "cell_type": "markdown",
   "metadata": {},
   "source": [
    "## 'Embarked' & 'Fare' Feature Missing Values"
   ]
  },
  {
   "cell_type": "code",
   "execution_count": 6,
   "metadata": {},
   "outputs": [],
   "source": [
    "# missing_value(X_og['Embarked'])\n",
    "\n",
    "X_og['Embarked'].describe()\n",
    "\n",
    "X_fill['Embarked'] = X_fill['Embarked'].fillna(X_og['Embarked'].describe()['top'])\n",
    "\n",
    "# missing_value(X_og['Fare'])\n",
    "\n",
    "# describe_numerical(X_og['Fare'])\n",
    "\n",
    "X_fill['Fare'] = X_fill['Fare'].fillna(X_og['Fare'].median())"
   ]
  },
  {
   "cell_type": "markdown",
   "metadata": {},
   "source": [
    "## Check Filled Missing Values"
   ]
  },
  {
   "cell_type": "code",
   "execution_count": 7,
   "metadata": {},
   "outputs": [],
   "source": [
    "# print('X_fill missing value number:')\n",
    "# print((X_fill.isnull().sum()).sort_values(ascending=False)[:10])\n",
    "# print('X_fill missing value percentage:')\n",
    "# print((X_fill.isnull().sum()/len(X_fill)).sort_values(ascending=False)[:10])"
   ]
  },
  {
   "cell_type": "markdown",
   "metadata": {},
   "source": [
    "## Numerical Feature Skewness & Kurtosis"
   ]
  },
  {
   "cell_type": "code",
   "execution_count": 8,
   "metadata": {},
   "outputs": [
    {
     "name": "stdout",
     "output_type": "stream",
     "text": [
      "Index(['Age', 'Fare'], dtype='object')\n"
     ]
    }
   ],
   "source": [
    "# print(X_fill[numerical].columns)\n",
    "\n",
    "# plot_distribution(X_fill['Age'])\n",
    "\n",
    "# plot_distribution(X_fill['Fare'])\n",
    "\n",
    "X_fill['Fare'] = np.log1p(X_fill['Fare'])\n",
    "# plot_distribution(X_fill['Fare'])"
   ]
  },
  {
   "cell_type": "markdown",
   "metadata": {},
   "source": [
    "## Add Feature 'Last Name' & Drop 'Name' Feature"
   ]
  },
  {
   "cell_type": "markdown",
   "metadata": {},
   "source": [
    "for i in honorific:\n",
    "    if re.findall('^[Mm].\\.?$', i):\n",
    "        print(i)"
   ]
  },
  {
   "cell_type": "code",
   "execution_count": 9,
   "metadata": {},
   "outputs": [],
   "source": [
    "full_name = X_fill['Name'].str.split(',')\n",
    "\n",
    "last_name = [i[0] for i in full_name.values]\n",
    "\n",
    "X_fill['last name'] = last_name"
   ]
  },
  {
   "cell_type": "code",
   "execution_count": 10,
   "metadata": {},
   "outputs": [],
   "source": [
    "X_fill = X_fill.drop('Name', axis=1)"
   ]
  },
  {
   "cell_type": "markdown",
   "metadata": {},
   "source": [
    "## Drop 'Ticket' Feature"
   ]
  },
  {
   "cell_type": "code",
   "execution_count": 11,
   "metadata": {},
   "outputs": [],
   "source": [
    "X_fill = X_fill.drop('Ticket', axis=1)"
   ]
  },
  {
   "cell_type": "markdown",
   "metadata": {},
   "source": [
    "## Add Feature 'Cabin Class' & Drop 'Cabin' Feature"
   ]
  },
  {
   "cell_type": "code",
   "execution_count": 12,
   "metadata": {},
   "outputs": [],
   "source": [
    "X_fill['cabin class'] = list(X_fill['Cabin'].str[0])"
   ]
  },
  {
   "cell_type": "code",
   "execution_count": 13,
   "metadata": {},
   "outputs": [],
   "source": [
    "X_fill = X_fill.drop('Cabin', axis=1)"
   ]
  },
  {
   "cell_type": "markdown",
   "metadata": {},
   "source": [
    "## Feature Value Transformation"
   ]
  },
  {
   "cell_type": "code",
   "execution_count": 14,
   "metadata": {},
   "outputs": [],
   "source": [
    "X_pre_transform = X_fill.copy()"
   ]
  },
  {
   "cell_type": "code",
   "execution_count": 15,
   "metadata": {},
   "outputs": [
    {
     "name": "stdout",
     "output_type": "stream",
     "text": [
      "Index(['Pclass', 'Sex', 'Age', 'SibSp', 'Parch', 'Fare', 'Embarked',\n",
      "       'last name', 'cabin class'],\n",
      "      dtype='object')\n"
     ]
    }
   ],
   "source": [
    "# print(X_pre_transform.columns)"
   ]
  },
  {
   "cell_type": "code",
   "execution_count": 16,
   "metadata": {},
   "outputs": [],
   "source": [
    "numerical = ['Age', 'Fare']\n",
    "nominal = ['Sex', 'Embarked']\n",
    "ordinal = ['Pclass', 'cabin class']\n",
    "last_name = 'last name'\n",
    "no_transform = ['SibSp', 'Parch']"
   ]
  },
  {
   "cell_type": "code",
   "execution_count": 17,
   "metadata": {},
   "outputs": [],
   "source": [
    "mapper = DataFrameMapper([\n",
    "    (numerical, preprocessing.MinMaxScaler(feature_range=(0, 1))),\n",
    "    (nominal, preprocessing.OneHotEncoder(sparse=False)), \n",
    "    (ordinal, preprocessing.OrdinalEncoder()),\n",
    "    ('last name', feature_extraction.text.TfidfVectorizer()), \n",
    "    (no_transform, None)],\n",
    "    df_out=True)\n",
    "\n",
    "X_all = mapper.fit_transform(X_pre_transform)"
   ]
  },
  {
   "cell_type": "code",
   "execution_count": 18,
   "metadata": {},
   "outputs": [
    {
     "name": "stdout",
     "output_type": "stream",
     "text": [
      "X feature set shape: (1309, 905)\n"
     ]
    }
   ],
   "source": [
    "print('X feature set shape:', X_all.shape)"
   ]
  },
  {
   "cell_type": "markdown",
   "metadata": {},
   "source": [
    "## Create Train, Dev, Test Sets"
   ]
  },
  {
   "cell_type": "code",
   "execution_count": 19,
   "metadata": {},
   "outputs": [],
   "source": [
    "train_X = X_all.loc[train_X_og.index].to_numpy()\n",
    "test_X = X_all.loc[test_X_og.index].to_numpy()"
   ]
  },
  {
   "cell_type": "code",
   "execution_count": 20,
   "metadata": {},
   "outputs": [],
   "source": [
    "train_Y = train_Y_og.to_numpy()"
   ]
  },
  {
   "cell_type": "code",
   "execution_count": 21,
   "metadata": {},
   "outputs": [],
   "source": [
    "train_X, dev_X, train_Y, dev_Y = train_test_split(train_X, train_Y, random_state=42)"
   ]
  },
  {
   "cell_type": "markdown",
   "metadata": {},
   "source": [
    "## Model 7 - Neural Network"
   ]
  },
  {
   "cell_type": "code",
   "execution_count": 22,
   "metadata": {},
   "outputs": [
    {
     "name": "stderr",
     "output_type": "stream",
     "text": [
      "Using TensorFlow backend.\n"
     ]
    }
   ],
   "source": [
    "from keras.callbacks import History\n",
    "from keras.models import Sequential\n",
    "from keras.layers import Dense\n",
    "from keras import losses\n",
    "from keras import metrics\n",
    "from keras import optimizers\n",
    "from keras import initializers\n",
    "from keras import regularizers"
   ]
  },
  {
   "cell_type": "code",
   "execution_count": 23,
   "metadata": {},
   "outputs": [],
   "source": [
    "batch_size = 64\n",
    "epochs = 200\n",
    "lr = 0.001\n",
    "l1 = 0.01\n",
    "l2 = 0.01"
   ]
  },
  {
   "cell_type": "code",
   "execution_count": 24,
   "metadata": {},
   "outputs": [],
   "source": [
    "model_nn, result = create_nn(train_X, train_Y, dev_X, dev_Y, l1, l2, lr, batch_size, epochs)"
   ]
  },
  {
   "cell_type": "code",
   "execution_count": 25,
   "metadata": {},
   "outputs": [
    {
     "name": "stdout",
     "output_type": "stream",
     "text": [
      "train set loss: 0.5878\n",
      "dev set loss: 0.5742\n",
      "train set accuracy: 0.8099\n",
      "dev set accuracy: 0.8072\n"
     ]
    },
    {
     "data": {
      "image/png": "[encoded data removed]",
      "text/plain": [
       "<Figure size 432x288 with 1 Axes>"
      ]
     },
     "metadata": {
      "needs_background": "light"
     },
     "output_type": "display_data"
    },
    {
     "data": {
      "image/png": "[encoded data removed]",
      "text/plain": [
       "<Figure size 432x288 with 1 Axes>"
      ]
     },
     "metadata": {
      "needs_background": "light"
     },
     "output_type": "display_data"
    }
   ],
   "source": [
    "plot_result(result)"
   ]
  },
  {
   "cell_type": "code",
   "execution_count": 26,
   "metadata": {},
   "outputs": [],
   "source": [
    "y7_prob = model_nn.predict(test_X)\n",
    "\n",
    "y7_binary = np.where(y7_prob > 0.5, 1, 0)\n",
    "\n",
    "submit(test_X_og, y7_binary)"
   ]
  },
  {
   "cell_type": "markdown",
   "metadata": {},
   "source": [
    "----"
   ]
  },
  {
   "cell_type": "markdown",
   "metadata": {},
   "source": [
    "## Model 01 - Logistic Regression L2 Regularization"
   ]
  },
  {
   "cell_type": "markdown",
   "metadata": {},
   "source": [
    "model1 = linear_model.LogisticRegression(penalty='l2', max_iter=1000)\n",
    "grid1 = {'C' : [1, 2, 3, 4, 5], \n",
    "         'solver' : ['newton-cg', 'lbfgs', 'sag']}\n",
    "\n",
    "model1 = gridsearchcv(model1, grid1, train_X, train_Y, dev_X, dev_Y)\n",
    "\n",
    "pickle.dump(model1, open('model1.sav', 'wb'))"
   ]
  },
  {
   "cell_type": "markdown",
   "metadata": {},
   "source": [
    "model1_load = pickle.load(open('model1.sav', 'rb'))\n",
    "y1 = model1_load.predict(test_X)\n",
    "\n",
    "submit(test_X_og, y1)"
   ]
  },
  {
   "cell_type": "markdown",
   "metadata": {},
   "source": [
    "## Model 02 - Decision Tree Classifier"
   ]
  },
  {
   "cell_type": "markdown",
   "metadata": {},
   "source": [
    "model2 = tree.DecisionTreeClassifier(random_state=42)\n",
    "grid2 = {'criterion' : ['gini', 'entropy'], \n",
    "         'max_depth' : [2, 3, 4, 5, 6, 7, 8, 9, 10], \n",
    "         'min_samples_leaf' : [2, 3, 4, 5, 6, 7, 8, 9, 10]}\n",
    "\n",
    "model2 = gridsearchcv(model2, grid2, train_X, train_Y, dev_X, dev_Y)\n",
    "\n",
    "pickle.dump(model2, open('model2.sav', 'wb'))"
   ]
  },
  {
   "cell_type": "markdown",
   "metadata": {},
   "source": [
    "model2_load = pickle.load(open('model2.sav', 'rb'))\n",
    "y2 = model2_load.predict(test_X)\n",
    "\n",
    "submit(test_X_og, y2)"
   ]
  },
  {
   "cell_type": "markdown",
   "metadata": {},
   "source": [
    "## Model 3 - Support Vector Machine Linear Kernel"
   ]
  },
  {
   "cell_type": "markdown",
   "metadata": {},
   "source": [
    "model3 = svm.LinearSVC(max_iter=100000, random_state=42)\n",
    "grid3 = {'C' : [0.5, 0.6, 0.7]}\n",
    "\n",
    "model3 = gridsearchcv(model3, grid3, train_X, train_Y, dev_X, dev_Y)\n",
    "\n",
    "pickle.dump(model3, open('model3.sav', 'wb'))"
   ]
  },
  {
   "cell_type": "markdown",
   "metadata": {},
   "source": [
    "model3_load = pickle.load(open('model3.sav', 'rb'))\n",
    "y3 = model3_load.predict(test_X)\n",
    "\n",
    "submit(test_X_og, y3)"
   ]
  },
  {
   "cell_type": "markdown",
   "metadata": {},
   "source": [
    "## Model 4 - Stochastic Gradient Descent Classifier"
   ]
  },
  {
   "cell_type": "markdown",
   "metadata": {},
   "source": [
    "model4 = neighbors.KNeighborsClassifier(algorithm='auto')\n",
    "grid4 = {'n_neighbors' : [3, 4, 5, 6, 7], \n",
    "        'weights' : ['uniform', 'distance'], \n",
    "        'leaf_size' : [20, 30, 40, 50], \n",
    "        'p' : [1, 2]}\n",
    "\n",
    "model4 = gridsearchcv(model4, grid4, train_X, train_Y, dev_X, dev_Y)\n",
    "\n",
    "pickle.dump(model4, open('model4.sav', 'wb'))"
   ]
  },
  {
   "cell_type": "markdown",
   "metadata": {},
   "source": [
    "model4_load = pickle.load(open('model4.sav', 'rb'))\n",
    "y4 = model4_load.predict(test_X)\n",
    "\n",
    "submit(test_X_og, y4)"
   ]
  },
  {
   "cell_type": "markdown",
   "metadata": {},
   "source": [
    "## Model 5 - Gradient Boosting Classifier"
   ]
  },
  {
   "cell_type": "markdown",
   "metadata": {},
   "source": [
    "model5 = ensemble.GradientBoostingClassifier(learning_rate=1, loss='deviance', random_state=42)\n",
    "grid5 = {'n_estimators' : [150, 200, 250, 300, 350], \n",
    "        'max_depth' : [3, 4, 5, 6, 7]}\n",
    "\n",
    "model5 = gridsearchcv(model5, grid5, train_X, train_Y, dev_X, dev_Y)\n",
    "\n",
    "pickle.dump(model5, open('model5.sav', 'wb'))"
   ]
  },
  {
   "cell_type": "markdown",
   "metadata": {},
   "source": [
    "model5_load = pickle.load(open('model5.sav', 'rb'))\n",
    "y5 = model5_load.predict(test_X)\n",
    "\n",
    "submit(test_X_og, y5)"
   ]
  },
  {
   "cell_type": "markdown",
   "metadata": {},
   "source": [
    "## Model 6 - XGBClassifier"
   ]
  },
  {
   "cell_type": "markdown",
   "metadata": {},
   "source": [
    "model6 = XGBClassifier(objective='binary:logistic', eval_metric='error', \n",
    "                       n_estimators=100, verbosity=2, random_state=42)\n",
    "grid6 = {'max_depth' : [3, 4, 5, 6, 7], \n",
    "        'learning_rate' : [0.01, 0.1, 1]}\n",
    "\n",
    "model6 = gridsearchcv(model6, grid6, train_X, train_Y, dev_X, dev_Y)\n",
    "\n",
    "pickle.dump(model6, open('model6.sav', 'wb'))"
   ]
  },
  {
   "cell_type": "markdown",
   "metadata": {},
   "source": [
    "model6_load = pickle.load(open('model6.sav', 'rb'))\n",
    "y6 = model6_load.predict(test_X)\n",
    "\n",
    "submit(test_X_og, y6)"
   ]
  },
  {
   "cell_type": "code",
   "execution_count": null,
   "metadata": {},
   "outputs": [],
   "source": []
  },
  {
   "cell_type": "code",
   "execution_count": null,
   "metadata": {},
   "outputs": [],
   "source": []
  },
  {
   "cell_type": "code",
   "execution_count": null,
   "metadata": {},
   "outputs": [],
   "source": []
  }
 ],
 "metadata": {
  "kernelspec": {
   "display_name": "Python 3",
   "language": "python",
   "name": "python3"
  },
  "language_info": {
   "codemirror_mode": {
    "name": "ipython",
    "version": 3
   },
   "file_extension": ".py",
   "mimetype": "text/x-python",
   "name": "python",
   "nbconvert_exporter": "python",
   "pygments_lexer": "ipython3",
   "version": "3.6.8"
  }
 },
 "nbformat": 4,
 "nbformat_minor": 2
}
